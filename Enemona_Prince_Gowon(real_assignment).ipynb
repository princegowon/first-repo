{
  "cells": [
    {
      "cell_type": "markdown",
      "source": [
        "**Define the function for each task given**"
      ],
      "metadata": {
        "id": "dmql93iGTOUU"
      }
    },
    {
      "cell_type": "code",
      "execution_count": 12,
      "metadata": {
        "id": "g5Rtrm3uKFUf"
      },
      "outputs": [],
      "source": [
        "def total_sales(morning_sales, evening_sales):\n",
        "  return morning_sales + evening_sales"
      ]
    },
    {
      "cell_type": "code",
      "execution_count": 13,
      "metadata": {
        "id": "FfVLgkRLLPYC"
      },
      "outputs": [],
      "source": [
        "def workers_salary(hourly_rate, hours_worked):\n",
        "  return hourly_rate * hours_worked"
      ]
    },
    {
      "cell_type": "code",
      "execution_count": 14,
      "metadata": {
        "id": "2NrOoPgRL9Bf"
      },
      "outputs": [],
      "source": [
        "def profit(total_sales, total_cost):\n",
        "  return total_sales - total_cost"
      ]
    },
    {
      "cell_type": "code",
      "execution_count": 15,
      "metadata": {
        "id": "Aa4EMhLPM2xS"
      },
      "outputs": [],
      "source": [
        "def shift_tips(shift_sales):\n",
        "  return shift_sales * 0.02"
      ]
    },
    {
      "cell_type": "code",
      "execution_count": 16,
      "metadata": {
        "id": "g3mwFqaINEi6"
      },
      "outputs": [],
      "source": [
        "def total_tips(morning_sales, evening_sales):\n",
        "  return shift_tips(morning_sales) + shift_tips(evening_sales)"
      ]
    },
    {
      "cell_type": "markdown",
      "source": [
        "**Creating a user interface displaying option for the user to pick from.**"
      ],
      "metadata": {
        "id": "ls05esRqLwvz"
      }
    },
    {
      "cell_type": "code",
      "source": [
        "#welcome interface\n",
        "name = input(\"\\nWhat is your name?  \")\n",
        "name = name.title()\n",
        "print('\\n')\n",
        "print (\"Welcome, \"+ name + \"!\")\n",
        "print('\\n')\n",
        "\n",
        "#Main loop\n",
        "while True:\n",
        "  #Dispalys menu and gets users choice\n",
        "  print('\\n Retail\\ Account Procedures')\n",
        "  print('1. Calculate Total Sales')\n",
        "  print('2. calculate Worker Salary')\n",
        "  print('3. Caculate Profit ')\n",
        "  print('4. Calculate Morning Shift tips')\n",
        "  print('5. Calculate Evening Shift tips')\n",
        "  print('6. Calculate total tip')\n",
        "  print('7. Exit.')\n",
        "\n",
        "  #Handling the interface for User input of their preferred choice\n",
        "\n",
        "  choice = int(input('Enter your Preferred choice ' + name + '!' + '(1-7):'))\n",
        "\n",
        "  #code for choice 1\n",
        "  if choice == 1:\n",
        "    sales = input(\"Enter an amount for morning sale (or 'done' to finish)\")\n",
        "    if sales.lower() == \"done\":\n",
        "      print(\"\\n Thank you\")\n",
        "      break\n",
        "    try:\n",
        "      sales_data = float(sales)\n",
        "      morning_sales = sales_data\n",
        "    except ValueError:\n",
        "      print('\\n')\n",
        "      print(\"Invalid Sale Amount. Please Enter a number\")\n",
        "\n",
        "    sale = input(\"Enter an Amount for Evening Sale(or 'done' to finish)\")\n",
        "    if sale.lower() == \"done\":\n",
        "      break\n",
        "    try:\n",
        "      sales_data = float(sale)\n",
        "      evening_sales = sales_data\n",
        "    except ValueError:\n",
        "      print('\\n')\n",
        "      print(\"Invalid Sale Amount. Please Enter a number\")\n",
        "    total_sale = total_sales(morning_sales, evening_sales)\n",
        "    print('\\n')\n",
        "    print (f\"\\nTotal sales for the day: N{total_sale: .2f}\")\n",
        "\n",
        "#Code for choice 2\n",
        "\n",
        "  elif choice == 2:\n",
        "    try:\n",
        "      hourly_rate = float(input('Enter Hourly Rate:'))\n",
        "      hours_worked = float(input('Enter Hours Worked:'))\n",
        "      Salary = workers_salary(hourly_rate, hours_worked)\n",
        "      print('\\n')\n",
        "      print(f\"\\nWorkers Salary:N {Salary: .2f}\")\n",
        "    except ValueError:\n",
        "      print(\"\\nInvalid Input. Enter a Number.\")\n",
        "\n",
        "  #Code for choice 3\n",
        "\n",
        "  elif choice == 3:\n",
        "    try:\n",
        "      total_sales = float(input(\"Enter total sales:\"))\n",
        "      total_cost =  float(input(\"Enter total cost:\"))\n",
        "      profitt = profit(total_sales, total_cost)\n",
        "      print(f\"Profit: N{profitt: .2f}\" if profitt >=0 else f\"loss: N{-profitt:.2f}\")\n",
        "      print('\\n')\n",
        "    except ValueError:\n",
        "       print(\"\\nInvalid Input. Enter a Number.\")\n",
        "\n",
        " #Code for choice 4 and 5, since there can be different workers for each shit\n",
        "\n",
        "  elif choice == 4 or choice == 5:\n",
        "    shift = \"morning\" if choice == 4 else \"evening\"\n",
        "    sale = input(f\"Enter {shift} sale (or 'done' to finish)\")\n",
        "    if sale.lower() == 'done':\n",
        "      break\n",
        "    try:\n",
        "      sales_value = float(sale)\n",
        "      shift_sales = sales_value\n",
        "    except ValueError:\n",
        "      print('\\n')\n",
        "      print(\"\\nInvalid Input. Enter a Number.\")\n",
        "    tips = shift_tips(shift_sales)\n",
        "    print('\\n')\n",
        "    print(f\"{shift.capitalize()} shift tips: N{tips:}\")\n",
        "\n",
        "  #Code for choice 6\n",
        "\n",
        "  if choice == 6:\n",
        "    sale = input(\"Enter an Amount for morning sale(or 'done' to finish)\")\n",
        "    if sale.lower() == \"done\":\n",
        "      break\n",
        "    try:\n",
        "      sale_value = float(sale)\n",
        "      morning_sales = sale_value\n",
        "    except ValueError:\n",
        "      print('\\n')\n",
        "      print('\\n invalid input, Enter a number')\n",
        "\n",
        "    sale = input(\"Enter an Amount for evening sale(or 'done' to finish)\")\n",
        "    if sale.lower() == \"done\":\n",
        "      print(\"\\nThank you\")\n",
        "      break\n",
        "    try:\n",
        "      sale_value = float(sale)\n",
        "      evening_sales = sale_value\n",
        "    except ValueError:\n",
        "      print('\\n')\n",
        "      print('\\n invalid input, Enter a number')\n",
        "    total_tip = total_tips(morning_sales, evening_sales)\n",
        "    print('\\n')\n",
        "    print(f\"Total tip for the day: N{total_tip:.2f}\")\n",
        "\n",
        "# finally Code for choice 7\n",
        "\n",
        "  if choice == 7:\n",
        "     print(\"\\nGoodbye \" + name +'!')\n",
        "     print(\"\\n\")\n",
        "\n",
        "     break\n",
        "\n",
        "\n"
      ],
      "metadata": {
        "colab": {
          "base_uri": "https://localhost:8080/"
        },
        "id": "DCVupcFiw-Mj",
        "outputId": "cef62713-76e5-4525-ecd7-ce3de132c92d"
      },
      "execution_count": 22,
      "outputs": [
        {
          "output_type": "stream",
          "name": "stdout",
          "text": [
            "\n",
            "What is your name?  prince\n",
            "\n",
            "\n",
            "Welcome, Prince!\n",
            "\n",
            "\n",
            "\n",
            " Retail\\ Account Procedures\n",
            "1. Calculate Total Sales\n",
            "2. calculate Worker Salary\n",
            "3. Caculate Profit \n",
            "4. Calculate Morning Shift tips\n",
            "5. Calculate Evening Shift tips\n",
            "6. Calculate total tip\n",
            "7. Exit.\n",
            "Enter your Preferred choice Prince!(1-7):7\n",
            "\n",
            "Goodby Prince!\n",
            "\n",
            "\n"
          ]
        }
      ]
    },
    {
      "cell_type": "code",
      "source": [],
      "metadata": {
        "id": "0ZKEg_ZUeVWY"
      },
      "execution_count": null,
      "outputs": []
    }
  ],
  "metadata": {
    "colab": {
      "provenance": []
    },
    "kernelspec": {
      "display_name": "Python 3",
      "name": "python3"
    },
    "language_info": {
      "name": "python"
    }
  },
  "nbformat": 4,
  "nbformat_minor": 0
}